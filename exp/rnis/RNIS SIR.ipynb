{
 "cells": [
  {
   "cell_type": "code",
   "execution_count": 1,
   "id": "2f4fbfc8-f4dd-448b-ad54-1f044efc8f7e",
   "metadata": {},
   "outputs": [],
   "source": [
    "import sys\n",
    "sys.path.append(\"../..\")\n",
    "import numpy as np\n",
    "import matplotlib.pyplot as plt\n",
    "from matplotlib import cm\n",
    "import random\n",
    "%matplotlib inline"
   ]
  },
  {
   "cell_type": "code",
   "execution_count": 2,
   "id": "ea754b50-6fe9-4dd5-8e75-8a6d59800a48",
   "metadata": {},
   "outputs": [
    {
     "data": {
      "text/plain": [
       "device(type='cuda', index=0)"
      ]
     },
     "execution_count": 2,
     "metadata": {},
     "output_type": "execute_result"
    }
   ],
   "source": [
    "import torch\n",
    "from torch import nn\n",
    "from torch import distributions\n",
    "from torch.nn.parameter import Parameter\n",
    "from train import train\n",
    "from train import train_rnis\n",
    "from models_new import Renorm_Dynamic\n",
    "from models_new import Rnis_Dynamic\n",
    "from ei.EI_calculation import count_parameters\n",
    "from dynamic_models_sis_new import Simple_Spring_Model\n",
    "from datetime import datetime\n",
    "t0 = datetime.now()\n",
    "\n",
    "\n",
    "use_cuda = torch.cuda.is_available()\n",
    "device = torch.device('cuda:0') if use_cuda else torch.device('cpu')\n",
    "device"
   ]
  },
  {
   "cell_type": "markdown",
   "id": "cae291b9-12a9-4da7-8f81-2b11d44d4992",
   "metadata": {},
   "source": [
    "# Generate data"
   ]
  },
  {
   "cell_type": "code",
   "execution_count": 3,
   "id": "f3aa6d0c-7b3f-4a9a-a641-6570f797bfd8",
   "metadata": {},
   "outputs": [],
   "source": [
    "mul_batch_size = [0,5000,3000,1000]#[0,10,4500,1500]\n",
    "sigma = 0.03\n",
    "rou = -0.5\n",
    "steps = 7\n",
    "dt = 0.01\n",
    "\n",
    "seed = 2050\n",
    "np.random.seed(seed)\n",
    "torch.manual_seed(seed)\n",
    "torch.cuda.manual_seed_all(seed)\n",
    "spring = Simple_Spring_Model(device=device)\n",
    "test_data = spring.generate_multistep_sir(size_list=[500,500], steps=10, sigma=sigma, rou=rou,lam=1,miu=0.5,dt=dt) \n",
    "train_data = spring.generate_multistep_sir(size_list=mul_batch_size, steps=steps, sigma=sigma,rou=rou,lam=1,miu=0.5,dt=dt)"
   ]
  },
  {
   "cell_type": "markdown",
   "id": "031039e9-d91d-46b9-8cfe-5bbf2cfc8cc7",
   "metadata": {},
   "source": [
    "# Train RNIS"
   ]
  },
  {
   "cell_type": "code",
   "execution_count": null,
   "id": "e7fbed27-ff46-4c26-9972-af0941cea855",
   "metadata": {
    "scrolled": true
   },
   "outputs": [
    {
     "name": "stdout",
     "output_type": "stream",
     "text": [
      "33312\n",
      "check point-------o_0-> 16:34:22.219974; lasting 0:00:05.909153 seconds\n",
      "Epoch: 0\n",
      "Train loss: 0.4543\n",
      "dEI: 0.8603\n",
      "term1: 0.2799\n",
      "term2: 1.4407\n",
      "Test multistep loss: 0.5179\n",
      "------------------------------------------------------------------------------------------------------------------------\n",
      "check point-------o_1-> 16:34:30.659683; lasting 0:00:08.439709 seconds\n",
      "check point-------o_0-> 16:34:41.149832; lasting 0:00:10.490149 seconds\n",
      "Epoch: 500\n",
      "Train loss: 0.0550\n",
      "dEI: 1.5095\n",
      "term1: 1.5981\n",
      "term2: 1.4208\n",
      "Test multistep loss: 0.0531\n",
      "------------------------------------------------------------------------------------------------------------------------\n",
      "check point-------o_1-> 16:34:51.550585; lasting 0:00:10.400753 seconds\n",
      "check point-------o_0-> 16:35:00.989356; lasting 0:00:09.438771 seconds\n",
      "Epoch: 1000\n",
      "Train loss: 0.0354\n",
      "dEI: 1.7812\n",
      "term1: 2.1334\n",
      "term2: 1.4290\n",
      "Test multistep loss: 0.0335\n",
      "------------------------------------------------------------------------------------------------------------------------\n",
      "check point-------o_1-> 16:35:14.120879; lasting 0:00:13.131523 seconds\n",
      "check point-------o_0-> 16:35:24.847601; lasting 0:00:10.726722 seconds\n",
      "Epoch: 1500\n",
      "Train loss: 0.0314\n",
      "dEI: 1.8790\n",
      "term1: 2.3194\n",
      "term2: 1.4385\n",
      "Test multistep loss: 0.0384\n",
      "------------------------------------------------------------------------------------------------------------------------\n",
      "check point-------o_1-> 16:35:38.982044; lasting 0:00:14.134443 seconds\n",
      "check point-------o_0-> 16:35:49.087563; lasting 0:00:10.105519 seconds\n",
      "Epoch: 2000\n",
      "Train loss: 0.0315\n",
      "dEI: 1.9323\n",
      "term1: 2.4280\n",
      "term2: 1.4367\n",
      "Test multistep loss: 0.0344\n",
      "------------------------------------------------------------------------------------------------------------------------\n",
      "check point-------o_1-> 16:36:02.962427; lasting 0:00:13.874864 seconds\n",
      "check point-------o_0-> 16:36:13.064717; lasting 0:00:10.102290 seconds\n",
      "Epoch: 2500\n",
      "Train loss: 0.0301\n",
      "dEI: 1.9847\n",
      "term1: 2.5287\n",
      "term2: 1.4408\n",
      "Test multistep loss: 0.0304\n",
      "------------------------------------------------------------------------------------------------------------------------\n",
      "check point-------o_1-> 16:36:28.259929; lasting 0:00:15.195212 seconds\n",
      "check point-------o_0-> 16:36:39.034037; lasting 0:00:10.774108 seconds\n",
      "Epoch: 3000\n",
      "Train loss: 0.0298\n",
      "dEI: 2.0113\n",
      "term1: 2.5839\n",
      "term2: 1.4388\n",
      "Test multistep loss: 0.0323\n",
      "------------------------------------------------------------------------------------------------------------------------\n",
      "check point-------o_1-> 16:36:53.632642; lasting 0:00:14.598605 seconds\n",
      "check point-------o_0-> 16:37:10.805225; lasting 0:00:17.172583 seconds\n",
      "Epoch: 3500\n",
      "Train loss: 0.0296\n",
      "dEI: 2.1583\n",
      "term1: 2.8684\n",
      "term2: 1.4481\n",
      "Test multistep loss: 0.0355\n",
      "------------------------------------------------------------------------------------------------------------------------\n",
      "check point-------o_1-> 16:37:27.047005; lasting 0:00:16.241780 seconds\n",
      "check point-------w_0-> 16:37:45.429124; lasting 0:00:18.382119 seconds\n",
      "check point-------w_1-> 16:37:45.442909; lasting 0:00:00.013785 seconds\n",
      "check point-------w_2-> 16:44:34.867998; lasting 0:06:49.425089 seconds\n",
      "check point-------w_3-> 16:44:34.898923; lasting 0:00:00.030925 seconds\n",
      "check point-------o_0-> 16:44:34.898993; lasting 0:00:00.000070 seconds\n",
      "Epoch: 4000\n",
      "Train loss: 0.0299\n",
      "dEI: 2.2340\n",
      "term1: 3.0206\n",
      "term2: 1.4474\n",
      "Test multistep loss: 0.0372\n",
      "------------------------------------------------------------------------------------------------------------------------\n",
      "check point-------o_1-> 16:44:50.125960; lasting 0:00:15.226967 seconds\n",
      "check point-------o_0-> 16:45:08.825394; lasting 0:00:18.699434 seconds\n",
      "Epoch: 4500\n",
      "Train loss: 0.0288\n",
      "dEI: 2.3020\n",
      "term1: 3.1614\n",
      "term2: 1.4426\n",
      "Test multistep loss: 0.0309\n",
      "------------------------------------------------------------------------------------------------------------------------\n",
      "check point-------o_1-> 16:45:28.262794; lasting 0:00:19.437400 seconds\n",
      "check point-------w_0-> 16:45:45.805837; lasting 0:00:17.543043 seconds\n",
      "check point-------w_1-> 16:45:45.820057; lasting 0:00:00.014220 seconds\n",
      "check point-------w_2-> 16:52:09.307710; lasting 0:06:23.487653 seconds\n",
      "check point-------w_3-> 16:52:09.320663; lasting 0:00:00.012953 seconds\n",
      "check point-------o_0-> 16:52:09.320720; lasting 0:00:00.000057 seconds\n",
      "Epoch: 5000\n",
      "Train loss: 0.0305\n",
      "dEI: 2.3358\n",
      "term1: 3.2308\n",
      "term2: 1.4408\n",
      "Test multistep loss: 0.0285\n",
      "------------------------------------------------------------------------------------------------------------------------\n",
      "check point-------o_1-> 16:52:25.451457; lasting 0:00:16.130737 seconds\n",
      "check point-------o_0-> 16:52:47.736628; lasting 0:00:22.285171 seconds\n",
      "Epoch: 5500\n",
      "Train loss: 0.0291\n",
      "dEI: 2.3972\n",
      "term1: 3.3539\n",
      "term2: 1.4406\n",
      "Test multistep loss: 0.0330\n",
      "------------------------------------------------------------------------------------------------------------------------\n",
      "check point-------o_1-> 16:53:04.421050; lasting 0:00:16.684422 seconds\n"
     ]
    }
   ],
   "source": [
    "sz = 4\n",
    "scale = 2\n",
    "L = 1\n",
    "mae2_w = 3\n",
    "T_total = 30001\n",
    "hidden_units_dyn = 32\n",
    "eis_rnis, term1s_rnis, term2s_rnis, losses_rnis, MAEs_mstep_rnis, net_rnis = train_rnis(train_data=train_data, test_data=test_data, \n",
    "                                                                    sigma=sigma, rou=rou, sz=sz, scale=scale, L=L, \n",
    "                                                                    mae2_w=mae2_w, hidden_units_dyn = hidden_units_dyn, dt=dt, T2=T_total)"
   ]
  },
  {
   "cell_type": "markdown",
   "id": "503c6d49-cea7-445e-a806-5599ccc09848",
   "metadata": {},
   "source": [
    "# Train NIS"
   ]
  },
  {
   "cell_type": "code",
   "execution_count": null,
   "id": "28b01b1b-8c1b-4172-88ab-06373abc524d",
   "metadata": {
    "scrolled": true
   },
   "outputs": [],
   "source": [
    "sz = 4\n",
    "scale = 2\n",
    "L = 1\n",
    "mae2_w = 3\n",
    "T_total = 30001\n",
    "eis_nis, term1s_nis, term2s_nis, losses_nis, MAEs_mstep_nis, net_nis = train(train_data=train_data, test_data=test_data, \n",
    "                                                                    sigma=sigma, rou=rou, sz=sz, scale=scale, L=L, \n",
    "                                                                    mae2_w=mae2_w, dt=dt, T2=T_total,framework='nis')"
   ]
  },
  {
   "cell_type": "markdown",
   "id": "ed489978-ebbb-4c44-958f-525626dcc9b5",
   "metadata": {},
   "source": [
    "# Train NIS+"
   ]
  },
  {
   "cell_type": "code",
   "execution_count": null,
   "id": "093d53e9-d178-46ab-b92f-30e1a5da1b11",
   "metadata": {
    "scrolled": true
   },
   "outputs": [],
   "source": [
    "eis_nisp, term1s_nisp, term2s_nisp, losses_nisp, MAEs_mstep_nisp, net_nisp = train(train_data=train_data, test_data=test_data, \n",
    "                                                                         sigma=sigma, rou=rou, sz=sz, scale=scale, L=L, \n",
    "                                                                         mae2_w=mae2_w, dt=dt, T2=T_total,framework='nis+')"
   ]
  },
  {
   "cell_type": "markdown",
   "id": "dfb394aa-9006-4621-8552-ca06c756eae2",
   "metadata": {},
   "source": [
    "# Results"
   ]
  },
  {
   "cell_type": "code",
   "execution_count": null,
   "id": "a76a048f-3cc3-428e-bcc2-b6f1b3b7586d",
   "metadata": {},
   "outputs": [],
   "source": [
    "print(count_parameters(net_rnis),count_parameters(net_nis),count_parameters(net_nisp))"
   ]
  },
  {
   "cell_type": "code",
   "execution_count": null,
   "id": "fb58daf4-b2de-4b60-943c-fc53fbc90c7e",
   "metadata": {},
   "outputs": [],
   "source": [
    "plt.figure(dpi=150)\n",
    "timeseries = np.arange(len(eis_nis))*500\n",
    "plt.plot(timeseries, eis_nis, label='NIS')\n",
    "plt.plot(timeseries, eis_nisp, label='NIS+')\n",
    "plt.plot(timeseries, eis_rnis, label='RNIS')\n",
    "plt.title(r'$\\mathcal{J}$')\n",
    "plt.legend()\n",
    "plt.show()"
   ]
  },
  {
   "cell_type": "code",
   "execution_count": null,
   "id": "27ebe4ba-c11f-4b57-8a36-6d7499df3aeb",
   "metadata": {},
   "outputs": [],
   "source": [
    "plt.figure(figsize=(5,4),dpi=150)\n",
    "timeseries = np.arange(len(eis_nis))*500\n",
    "plt.plot(timeseries, losses_nis, label='NIS')\n",
    "plt.plot(timeseries, losses_nisp, label='NIS+')\n",
    "plt.plot(timeseries, losses_rnis, label='RNIS')\n",
    "plt.title(r'loss')\n",
    "plt.legend()\n",
    "plt.yscale('log')\n",
    "plt.show()"
   ]
  },
  {
   "cell_type": "code",
   "execution_count": null,
   "id": "15072bc6-586b-453a-a805-159946442e81",
   "metadata": {},
   "outputs": [],
   "source": [
    "plt.figure(figsize=(5,4),dpi=150)\n",
    "timeseries = np.arange(len(eis_nis))*500\n",
    "plt.plot(timeseries, MAEs_mstep_nis, label='NIS')\n",
    "plt.plot(timeseries, MAEs_mstep_nisp, label='NIS+')\n",
    "plt.plot(timeseries, MAEs_mstep_rnis, label='RNIS')\n",
    "plt.title(r'multistep mae')\n",
    "plt.legend()\n",
    "plt.yscale('log')\n",
    "plt.show()"
   ]
  },
  {
   "cell_type": "code",
   "execution_count": null,
   "id": "e7581de4-c9a6-43b6-8d92-f573f332af2f",
   "metadata": {
    "scrolled": true
   },
   "outputs": [],
   "source": [
    "for name, param in net_nisp.flow.named_parameters():\n",
    "    print(name, param.data)"
   ]
  },
  {
   "cell_type": "code",
   "execution_count": null,
   "id": "358986b2-2502-4cea-95fa-bd3b041d0211",
   "metadata": {
    "scrolled": true
   },
   "outputs": [],
   "source": [
    "for name, param in net_rnis.flow.named_parameters():\n",
    "    print(name, param.data)"
   ]
  }
 ],
 "metadata": {
  "kernelspec": {
   "display_name": "Python 3 (ipykernel)",
   "language": "python",
   "name": "python3"
  },
  "language_info": {
   "codemirror_mode": {
    "name": "ipython",
    "version": 3
   },
   "file_extension": ".py",
   "mimetype": "text/x-python",
   "name": "python",
   "nbconvert_exporter": "python",
   "pygments_lexer": "ipython3",
   "version": "3.10.14"
  }
 },
 "nbformat": 4,
 "nbformat_minor": 5
}
