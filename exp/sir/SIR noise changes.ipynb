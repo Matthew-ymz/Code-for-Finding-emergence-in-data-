{
 "cells": [
  {
   "cell_type": "markdown",
   "metadata": {},
   "source": [
    "# Import backage"
   ]
  },
  {
   "cell_type": "code",
   "execution_count": 11,
   "metadata": {},
   "outputs": [],
   "source": [
    "import sys\n",
    "sys.path.append(\"../..\")\n",
    "import numpy as np\n",
    "import matplotlib.pyplot as plt\n",
    "from matplotlib import cm\n",
    "import random\n",
    "%matplotlib inline"
   ]
  },
  {
   "cell_type": "code",
   "execution_count": 12,
   "metadata": {},
   "outputs": [
    {
     "data": {
      "text/plain": [
       "device(type='cuda', index=0)"
      ]
     },
     "execution_count": 12,
     "metadata": {},
     "output_type": "execute_result"
    }
   ],
   "source": [
    "import torch\n",
    "from torch import nn\n",
    "from torch import distributions\n",
    "from torch.nn.parameter import Parameter\n",
    "from train import train\n",
    "from models.models_new import Renorm_Dynamic\n",
    "from dynamic_models_sis_new import Simple_Spring_Model\n",
    "from ei.EI_calculation import EmergencePsi\n",
    "from ei.EI_calculation import test_model_causal_multi_sis\n",
    "\n",
    "from datetime import datetime\n",
    "t0 = datetime.now()\n",
    "\n",
    "\n",
    "use_cuda = torch.cuda.is_available()\n",
    "device = torch.device('cuda:0') if use_cuda else torch.device('cpu')\n",
    "device"
   ]
  },
  {
   "cell_type": "markdown",
   "metadata": {},
   "source": [
    "# Noise experiments"
   ]
  },
  {
   "cell_type": "code",
   "execution_count": 13,
   "metadata": {},
   "outputs": [],
   "source": [
    "# nis+ CE macro\n",
    "mul_batch_size = [0,5000,3000,1000]\n",
    "sigma_list = [0.00001,0.0001,0.001,0.01,0.1,1]\n",
    "experiments = len(sigma_list)\n",
    "rou = -0.5\n",
    "steps = 7\n",
    "sz = 4\n",
    "L = 1\n",
    "mae2_w = 3\n",
    "hidden_units = 64\n",
    "T_total = 30001\n",
    "dt = 0.01\n",
    "spring = Simple_Spring_Model(device=device)"
   ]
  },
  {
   "cell_type": "code",
   "execution_count": null,
   "metadata": {
    "scrolled": true
   },
   "outputs": [
    {
     "name": "stdout",
     "output_type": "stream",
     "text": [
      "check point-------o_0-> 10:42:53.825106; lasting 0:07:35.630492 seconds\n",
      "Epoch: 0\n",
      "Train loss: 0.4531\n",
      "dEI: 1.0679\n",
      "term1: 0.7085\n",
      "term2: 1.4272\n",
      "Test multistep loss: 0.4539\n",
      "------------------------------------------------------------------------------------------------------------------------\n",
      "check point-------o_1-> 10:42:58.080132; lasting 0:00:04.255026 seconds\n",
      "check point-------o_0-> 10:43:08.046291; lasting 0:00:09.966159 seconds\n",
      "Epoch: 500\n",
      "Train loss: 0.0866\n",
      "dEI: 1.7715\n",
      "term1: 1.9303\n",
      "term2: 1.6126\n",
      "Test multistep loss: 0.0974\n",
      "------------------------------------------------------------------------------------------------------------------------\n",
      "check point-------o_1-> 10:43:12.756772; lasting 0:00:04.710481 seconds\n"
     ]
    }
   ],
   "source": [
    "# nis+ macro\n",
    "scale = 2\n",
    "eis_macro_e = np.zeros([experiments,T_total//500+1])\n",
    "losses_macro_e = np.zeros([experiments,T_total//500+1])\n",
    "MAEs_mstep_macro_e = np.zeros([experiments,T_total//500+1])\n",
    "for e in range(experiments):\n",
    "    sigma = sigma_list[e]\n",
    "    seed = 1 \n",
    "    np.random.seed(seed)\n",
    "    torch.manual_seed(seed)\n",
    "    torch.cuda.manual_seed_all(seed)\n",
    "    spring = Simple_Spring_Model(device=device)\n",
    "    test_data = spring.generate_multistep_sir(size_list=[500,500], steps=10, sigma=sigma, rou=rou,lam=1,miu=0.5,dt=0.01) #sir\n",
    "    train_data = spring.generate_multistep_sir(size_list=mul_batch_size, steps=steps, sigma=sigma,rou=rou,lam=1,miu=0.5,dt=0.01)\n",
    "    \n",
    "    eis_nisp, term1s_nisp, term2s_nisp, losses_nisp, MAEs_mstep_nisp, net = train(train_data=train_data, test_data=test_data, \n",
    "                                                                    sigma=sigma, rou=rou, sz=sz, scale=scale, L=L, \n",
    "                                                                    mae2_w=mae2_w, T2=T_total,framework='nis+')\n",
    "    eis_macro_e[e,:] = eis_nisp\n",
    "    losses_macro_e[e,:] = losses_nisp\n",
    "    MAEs_mstep_macro_e[e,:] = MAEs_mstep_nisp\n",
    "    torch.save(net.state_dict(), 'mdl_data/macro noise = '+str(sigma)+'.mdl')"
   ]
  },
  {
   "cell_type": "markdown",
   "metadata": {},
   "source": [
    "# Plot"
   ]
  },
  {
   "cell_type": "code",
   "execution_count": 10,
   "metadata": {},
   "outputs": [
    {
     "ename": "TypeError",
     "evalue": "can't convert cuda:0 device type tensor to numpy. Use Tensor.cpu() to copy the tensor to host memory first.",
     "output_type": "error",
     "traceback": [
      "\u001b[0;31m---------------------------------------------------------------------------\u001b[0m",
      "\u001b[0;31mTypeError\u001b[0m                                 Traceback (most recent call last)",
      "File \u001b[0;32m~/anaconda3/envs/py310/lib/python3.10/site-packages/numpy/core/fromnumeric.py:59\u001b[0m, in \u001b[0;36m_wrapfunc\u001b[0;34m(obj, method, *args, **kwds)\u001b[0m\n\u001b[1;32m     58\u001b[0m \u001b[38;5;28;01mtry\u001b[39;00m:\n\u001b[0;32m---> 59\u001b[0m     \u001b[38;5;28;01mreturn\u001b[39;00m \u001b[43mbound\u001b[49m\u001b[43m(\u001b[49m\u001b[38;5;241;43m*\u001b[39;49m\u001b[43margs\u001b[49m\u001b[43m,\u001b[49m\u001b[43m \u001b[49m\u001b[38;5;241;43m*\u001b[39;49m\u001b[38;5;241;43m*\u001b[39;49m\u001b[43mkwds\u001b[49m\u001b[43m)\u001b[49m\n\u001b[1;32m     60\u001b[0m \u001b[38;5;28;01mexcept\u001b[39;00m \u001b[38;5;167;01mTypeError\u001b[39;00m:\n\u001b[1;32m     61\u001b[0m     \u001b[38;5;66;03m# A TypeError occurs if the object does have such a method in its\u001b[39;00m\n\u001b[1;32m     62\u001b[0m     \u001b[38;5;66;03m# class, but its signature is not identical to that of NumPy's. This\u001b[39;00m\n\u001b[0;32m   (...)\u001b[0m\n\u001b[1;32m     66\u001b[0m     \u001b[38;5;66;03m# Call _wrapit from within the except clause to ensure a potential\u001b[39;00m\n\u001b[1;32m     67\u001b[0m     \u001b[38;5;66;03m# exception has a traceback chain.\u001b[39;00m\n",
      "\u001b[0;31mTypeError\u001b[0m: round() received an invalid combination of arguments - got (out=NoneType, decimals=int, ), but expected one of:\n * ()\n * (*, int decimals)\n      didn't match because some of the keywords were incorrect: out\n",
      "\nDuring handling of the above exception, another exception occurred:\n",
      "\u001b[0;31mTypeError\u001b[0m                                 Traceback (most recent call last)",
      "Cell \u001b[0;32mIn[10], line 17\u001b[0m\n\u001b[1;32m     15\u001b[0m net2\u001b[38;5;241m.\u001b[39mload_state_dict(torch\u001b[38;5;241m.\u001b[39mload(\u001b[38;5;124m'\u001b[39m\u001b[38;5;124mmdl_data/macro noise = \u001b[39m\u001b[38;5;124m'\u001b[39m\u001b[38;5;241m+\u001b[39m\u001b[38;5;28mstr\u001b[39m(sigma)\u001b[38;5;241m+\u001b[39m\u001b[38;5;124m'\u001b[39m\u001b[38;5;124m.mdl\u001b[39m\u001b[38;5;124m'\u001b[39m))\n\u001b[1;32m     16\u001b[0m _, _, V \u001b[38;5;241m=\u001b[39m net2\u001b[38;5;241m.\u001b[39mforward(s)\n\u001b[0;32m---> 17\u001b[0m psi, _, _ \u001b[38;5;241m=\u001b[39m \u001b[43mEmergencePsi\u001b[49m\u001b[43m(\u001b[49m\u001b[43ms\u001b[49m\u001b[43m,\u001b[49m\u001b[43m \u001b[49m\u001b[43mV\u001b[49m\u001b[43m)\u001b[49m \n\u001b[1;32m     18\u001b[0m ei4, sigmas0,weightsnet\u001b[38;5;241m=\u001b[39mtest_model_causal_multi_sis(spring_data,MAE_raw,net4,sigma,\u001b[38;5;241m4\u001b[39m, L\u001b[38;5;241m=\u001b[39mL,num_samples \u001b[38;5;241m=\u001b[39m \u001b[38;5;241m1000\u001b[39m, bigL \u001b[38;5;241m=\u001b[39m L)\n\u001b[1;32m     19\u001b[0m ei2, sigmas0,weightsnet\u001b[38;5;241m=\u001b[39mtest_model_causal_multi_sis(spring_data,MAE_raw,net2,sigma,\u001b[38;5;241m2\u001b[39m, L\u001b[38;5;241m=\u001b[39mL,num_samples \u001b[38;5;241m=\u001b[39m \u001b[38;5;241m1000\u001b[39m, bigL \u001b[38;5;241m=\u001b[39m L)\n",
      "File \u001b[0;32m~/data/test/ymz_nis/Code-for-Finding-emergence-in-data-/exp/sir/../../ei/EI_calculation.py:151\u001b[0m, in \u001b[0;36mEmergencePsi\u001b[0;34m(X, V, tau, method)\u001b[0m\n\u001b[1;32m    149\u001b[0m     tau \u001b[38;5;241m=\u001b[39m \u001b[38;5;241m1\u001b[39m\n\u001b[1;32m    150\u001b[0m \u001b[38;5;28;01mif\u001b[39;00m method \u001b[38;5;129;01mis\u001b[39;00m \u001b[38;5;28;01mNone\u001b[39;00m:\n\u001b[0;32m--> 151\u001b[0m     isdiscrete \u001b[38;5;241m=\u001b[39m np\u001b[38;5;241m.\u001b[39misclose(X, \u001b[43mnp\u001b[49m\u001b[38;5;241;43m.\u001b[39;49m\u001b[43mround\u001b[49m\u001b[43m(\u001b[49m\u001b[43mX\u001b[49m\u001b[43m)\u001b[49m)\u001b[38;5;241m.\u001b[39mall() \u001b[38;5;129;01mand\u001b[39;00m np\u001b[38;5;241m.\u001b[39misclose(V, np\u001b[38;5;241m.\u001b[39mround(V))\u001b[38;5;241m.\u001b[39mall()\n\u001b[1;32m    152\u001b[0m     \u001b[38;5;28;01mif\u001b[39;00m isdiscrete:\n\u001b[1;32m    153\u001b[0m         method \u001b[38;5;241m=\u001b[39m \u001b[38;5;124m'\u001b[39m\u001b[38;5;124mdiscrete\u001b[39m\u001b[38;5;124m'\u001b[39m\n",
      "File \u001b[0;32m~/anaconda3/envs/py310/lib/python3.10/site-packages/numpy/core/fromnumeric.py:3360\u001b[0m, in \u001b[0;36mround\u001b[0;34m(a, decimals, out)\u001b[0m\n\u001b[1;32m   3269\u001b[0m \u001b[38;5;129m@array_function_dispatch\u001b[39m(_round_dispatcher)\n\u001b[1;32m   3270\u001b[0m \u001b[38;5;28;01mdef\u001b[39;00m \u001b[38;5;21mround\u001b[39m(a, decimals\u001b[38;5;241m=\u001b[39m\u001b[38;5;241m0\u001b[39m, out\u001b[38;5;241m=\u001b[39m\u001b[38;5;28;01mNone\u001b[39;00m):\n\u001b[1;32m   3271\u001b[0m \u001b[38;5;250m    \u001b[39m\u001b[38;5;124;03m\"\"\"\u001b[39;00m\n\u001b[1;32m   3272\u001b[0m \u001b[38;5;124;03m    Evenly round to the given number of decimals.\u001b[39;00m\n\u001b[1;32m   3273\u001b[0m \n\u001b[0;32m   (...)\u001b[0m\n\u001b[1;32m   3358\u001b[0m \n\u001b[1;32m   3359\u001b[0m \u001b[38;5;124;03m    \"\"\"\u001b[39;00m\n\u001b[0;32m-> 3360\u001b[0m     \u001b[38;5;28;01mreturn\u001b[39;00m \u001b[43m_wrapfunc\u001b[49m\u001b[43m(\u001b[49m\u001b[43ma\u001b[49m\u001b[43m,\u001b[49m\u001b[43m \u001b[49m\u001b[38;5;124;43m'\u001b[39;49m\u001b[38;5;124;43mround\u001b[39;49m\u001b[38;5;124;43m'\u001b[39;49m\u001b[43m,\u001b[49m\u001b[43m \u001b[49m\u001b[43mdecimals\u001b[49m\u001b[38;5;241;43m=\u001b[39;49m\u001b[43mdecimals\u001b[49m\u001b[43m,\u001b[49m\u001b[43m \u001b[49m\u001b[43mout\u001b[49m\u001b[38;5;241;43m=\u001b[39;49m\u001b[43mout\u001b[49m\u001b[43m)\u001b[49m\n",
      "File \u001b[0;32m~/anaconda3/envs/py310/lib/python3.10/site-packages/numpy/core/fromnumeric.py:68\u001b[0m, in \u001b[0;36m_wrapfunc\u001b[0;34m(obj, method, *args, **kwds)\u001b[0m\n\u001b[1;32m     59\u001b[0m     \u001b[38;5;28;01mreturn\u001b[39;00m bound(\u001b[38;5;241m*\u001b[39margs, \u001b[38;5;241m*\u001b[39m\u001b[38;5;241m*\u001b[39mkwds)\n\u001b[1;32m     60\u001b[0m \u001b[38;5;28;01mexcept\u001b[39;00m \u001b[38;5;167;01mTypeError\u001b[39;00m:\n\u001b[1;32m     61\u001b[0m     \u001b[38;5;66;03m# A TypeError occurs if the object does have such a method in its\u001b[39;00m\n\u001b[1;32m     62\u001b[0m     \u001b[38;5;66;03m# class, but its signature is not identical to that of NumPy's. This\u001b[39;00m\n\u001b[0;32m   (...)\u001b[0m\n\u001b[1;32m     66\u001b[0m     \u001b[38;5;66;03m# Call _wrapit from within the except clause to ensure a potential\u001b[39;00m\n\u001b[1;32m     67\u001b[0m     \u001b[38;5;66;03m# exception has a traceback chain.\u001b[39;00m\n\u001b[0;32m---> 68\u001b[0m     \u001b[38;5;28;01mreturn\u001b[39;00m \u001b[43m_wrapit\u001b[49m\u001b[43m(\u001b[49m\u001b[43mobj\u001b[49m\u001b[43m,\u001b[49m\u001b[43m \u001b[49m\u001b[43mmethod\u001b[49m\u001b[43m,\u001b[49m\u001b[43m \u001b[49m\u001b[38;5;241;43m*\u001b[39;49m\u001b[43margs\u001b[49m\u001b[43m,\u001b[49m\u001b[43m \u001b[49m\u001b[38;5;241;43m*\u001b[39;49m\u001b[38;5;241;43m*\u001b[39;49m\u001b[43mkwds\u001b[49m\u001b[43m)\u001b[49m\n",
      "File \u001b[0;32m~/anaconda3/envs/py310/lib/python3.10/site-packages/numpy/core/fromnumeric.py:45\u001b[0m, in \u001b[0;36m_wrapit\u001b[0;34m(obj, method, *args, **kwds)\u001b[0m\n\u001b[1;32m     43\u001b[0m \u001b[38;5;28;01mexcept\u001b[39;00m \u001b[38;5;167;01mAttributeError\u001b[39;00m:\n\u001b[1;32m     44\u001b[0m     wrap \u001b[38;5;241m=\u001b[39m \u001b[38;5;28;01mNone\u001b[39;00m\n\u001b[0;32m---> 45\u001b[0m result \u001b[38;5;241m=\u001b[39m \u001b[38;5;28mgetattr\u001b[39m(\u001b[43masarray\u001b[49m\u001b[43m(\u001b[49m\u001b[43mobj\u001b[49m\u001b[43m)\u001b[49m, method)(\u001b[38;5;241m*\u001b[39margs, \u001b[38;5;241m*\u001b[39m\u001b[38;5;241m*\u001b[39mkwds)\n\u001b[1;32m     46\u001b[0m \u001b[38;5;28;01mif\u001b[39;00m wrap:\n\u001b[1;32m     47\u001b[0m     \u001b[38;5;28;01mif\u001b[39;00m \u001b[38;5;129;01mnot\u001b[39;00m \u001b[38;5;28misinstance\u001b[39m(result, mu\u001b[38;5;241m.\u001b[39mndarray):\n",
      "File \u001b[0;32m~/anaconda3/envs/py310/lib/python3.10/site-packages/torch/_tensor.py:1062\u001b[0m, in \u001b[0;36mTensor.__array__\u001b[0;34m(self, dtype)\u001b[0m\n\u001b[1;32m   1060\u001b[0m     \u001b[38;5;28;01mreturn\u001b[39;00m handle_torch_function(Tensor\u001b[38;5;241m.\u001b[39m__array__, (\u001b[38;5;28mself\u001b[39m,), \u001b[38;5;28mself\u001b[39m, dtype\u001b[38;5;241m=\u001b[39mdtype)\n\u001b[1;32m   1061\u001b[0m \u001b[38;5;28;01mif\u001b[39;00m dtype \u001b[38;5;129;01mis\u001b[39;00m \u001b[38;5;28;01mNone\u001b[39;00m:\n\u001b[0;32m-> 1062\u001b[0m     \u001b[38;5;28;01mreturn\u001b[39;00m \u001b[38;5;28;43mself\u001b[39;49m\u001b[38;5;241;43m.\u001b[39;49m\u001b[43mnumpy\u001b[49m\u001b[43m(\u001b[49m\u001b[43m)\u001b[49m\n\u001b[1;32m   1063\u001b[0m \u001b[38;5;28;01melse\u001b[39;00m:\n\u001b[1;32m   1064\u001b[0m     \u001b[38;5;28;01mreturn\u001b[39;00m \u001b[38;5;28mself\u001b[39m\u001b[38;5;241m.\u001b[39mnumpy()\u001b[38;5;241m.\u001b[39mastype(dtype, copy\u001b[38;5;241m=\u001b[39m\u001b[38;5;28;01mFalse\u001b[39;00m)\n",
      "\u001b[0;31mTypeError\u001b[0m: can't convert cuda:0 device type tensor to numpy. Use Tensor.cpu() to copy the tensor to host memory first."
     ]
    }
   ],
   "source": [
    "ce_list=[]\n",
    "macro_list=[]\n",
    "micro_list=[]\n",
    "psi_list=[]\n",
    "for sigma in sigma_list:\n",
    "    spring_data = spring.generate_multistep_sir(size_list=[500,500], steps=10, sigma=sigma, rou=rou,lam=1,miu=0.5,dt=dt) #sir\n",
    "    s,sp,l,lp = spring_data\n",
    "    net4 = Renorm_Dynamic(sym_size = sz, latent_size = 4, effect_size = sz, \n",
    "                         hidden_units = hidden_units, normalized_state=True, device = device)\n",
    "    net2 = Renorm_Dynamic(sym_size = sz, latent_size = 4, effect_size = sz, \n",
    "                         hidden_units = hidden_units, normalized_state=True, device = device)\n",
    "    net4.to(device=device)\n",
    "    net2.to(device=device)\n",
    "    net4.load_state_dict(torch.load('mdl_data/micro noise = '+str(sigma)+'.mdl'))\n",
    "    net2.load_state_dict(torch.load('mdl_data/macro noise = '+str(sigma)+'.mdl'))\n",
    "    _, _, V = net2.forward(s)\n",
    "    psi, _, _ = EmergencePsi(s, V) \n",
    "    ei4, sigmas0,weightsnet=test_model_causal_multi_sis(spring_data,MAE_raw,net4,sigma,4, L=L,num_samples = 1000, bigL = L)\n",
    "    ei2, sigmas0,weightsnet=test_model_causal_multi_sis(spring_data,MAE_raw,net2,sigma,2, L=L,num_samples = 1000, bigL = L)\n",
    "    ce_list.append(ei2[0]-ei4[0])\n",
    "    macro_list.append(ei2[0])\n",
    "    micro_list.append(ei4[0])\n",
    "    psi_list.append(psi)\n",
    "\n",
    "\n",
    "\n",
    "\n",
    "plt.figure(dpi=300)\n",
    "color_label = ['#F4F1DE', '#DF7A5E', '#3C405B', '#82B29A', '#F2CC8E', '#A8DADC', '#457B9D', '#1D3557']\n",
    "plt.plot(sigma_list, ce_list,label = r'$\\Delta \\mathcal{J}$', color=color_label[1])\n",
    "plt.plot(sigma_list, macro_list,label = r'$macro \\mathcal{J}$', color=color_label[2])\n",
    "plt.plot(sigma_list, micro_list,label = r'$micro \\mathcal{J}$', color=color_label[3])\n",
    "plt.plot(sigma_list, psi_list,label = r'$\\Psi$', color=color_label[4])\n",
    "plt.legend()\n",
    "plt.xlabel(\"sigma\")\n",
    "plt.xscale('log')\n",
    "#plt.ylabel(r'$\\mathcal{J}$')\n",
    "plt.show()"
   ]
  },
  {
   "cell_type": "code",
   "execution_count": null,
   "metadata": {
    "scrolled": true
   },
   "outputs": [],
   "source": [
    "# nis+ micro\n",
    "scale = 4\n",
    "eis_micro_e = np.zeros([experiments,T_total//500+1])\n",
    "losses_micro_e = np.zeros([experiments,T_total//500+1])\n",
    "MAEs_mstep_micro_e = np.zeros([experiments,T_total//500+1])\n",
    "\n",
    "for e in range(experiments):\n",
    "    sigma = sigma_list[e]\n",
    "    seed = 1 \n",
    "    np.random.seed(seed)\n",
    "    torch.manual_seed(seed)\n",
    "    torch.cuda.manual_seed_all(seed)\n",
    "    spring = Simple_Spring_Model(device=device)\n",
    "    test_data = spring.generate_multistep_sir(size_list=[500,500], steps=10, sigma=sigma, rou=rou,lam=1,miu=0.5,dt=0.01) #sir\n",
    "    train_data = spring.generate_multistep_sir(size_list=mul_batch_size, steps=steps, sigma=sigma,rou=rou,lam=1,miu=0.5,dt=0.01)\n",
    "    \n",
    "    eis_nisp, term1s_nisp, term2s_nisp, losses_nisp, MAEs_mstep_nisp, net = train(train_data=train_data, test_data=test_data, \n",
    "                                                                    sigma=sigma, rou=rou, sz=sz, scale=scale, L=L, \n",
    "                                                                    mae2_w=mae2_w, T2=T_total,framework='nis+')\n",
    "    eis_micro_e[e,:] = eis_nisp\n",
    "    losses_micro_e[e,:] = losses_nisp\n",
    "    MAEs_mstep_micro_e[e,:] = MAEs_mstep_nisp\n",
    "    torch.save(net.state_dict(), 'mdl_data/micro noise = '+str(sigma)+'.mdl')"
   ]
  }
 ],
 "metadata": {
  "kernelspec": {
   "display_name": "Python 3 (ipykernel)",
   "language": "python",
   "name": "python3"
  },
  "language_info": {
   "codemirror_mode": {
    "name": "ipython",
    "version": 3
   },
   "file_extension": ".py",
   "mimetype": "text/x-python",
   "name": "python",
   "nbconvert_exporter": "python",
   "pygments_lexer": "ipython3",
   "version": "3.10.14"
  }
 },
 "nbformat": 4,
 "nbformat_minor": 4
}
