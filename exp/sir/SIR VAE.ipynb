{
 "cells": [
  {
   "cell_type": "code",
   "execution_count": 1,
   "id": "0f1ab834-97b6-4fdd-82e4-0d9710d6325b",
   "metadata": {},
   "outputs": [],
   "source": [
    "import sys\n",
    "sys.path.append(\"../..\")\n",
    "import numpy as np\n",
    "import matplotlib.pyplot as plt\n",
    "from matplotlib import cm\n",
    "import random\n",
    "%matplotlib inline"
   ]
  },
  {
   "cell_type": "code",
   "execution_count": 2,
   "id": "f94346fe-b2b7-4870-9fee-70c36ed9493a",
   "metadata": {},
   "outputs": [
    {
     "data": {
      "text/plain": [
       "device(type='cuda', index=0)"
      ]
     },
     "execution_count": 2,
     "metadata": {},
     "output_type": "execute_result"
    }
   ],
   "source": [
    "import torch\n",
    "from torch import nn\n",
    "from torch import distributions\n",
    "from torch.nn.parameter import Parameter\n",
    "from train import train\n",
    "from models.models_new import Renorm_Dynamic\n",
    "from dynamic_models_sis_new import Simple_Spring_Model\n",
    "from models_new import VAE\n",
    "from train import train_vae\n",
    "from ei.EI_calculation import test_vae_causal_multi_sis\n",
    "\n",
    "from datetime import datetime\n",
    "t0 = datetime.now()\n",
    "\n",
    "\n",
    "use_cuda = torch.cuda.is_available()\n",
    "device = torch.device('cuda:0') if use_cuda else torch.device('cpu')\n",
    "device"
   ]
  },
  {
   "cell_type": "markdown",
   "id": "11cf41ed-a1fa-47f6-bef6-b9142bce0b10",
   "metadata": {},
   "source": [
    "# Generate data"
   ]
  },
  {
   "cell_type": "code",
   "execution_count": 3,
   "id": "0ce2a8ee-8d1e-458a-a82e-60d791dbcf9a",
   "metadata": {},
   "outputs": [],
   "source": [
    "# whole sample\n",
    "mul_batch_size = [0,5000,3000,1000]#[0,10,4500,1500]\n",
    "sigma = 0.03\n",
    "rou = -0.5\n",
    "steps = 7\n",
    "dt = 1\n",
    "interval = 1\n",
    "seed = 2050\n",
    "np.random.seed(seed)\n",
    "torch.manual_seed(seed)\n",
    "torch.cuda.manual_seed_all(seed)\n",
    "spring = Simple_Spring_Model(device=device)\n",
    "test_data = spring.generate_multistep_sir(size_list=[500,500], steps=10*interval, sigma=sigma, rou=rou,lam=1,miu=0.5,dt=dt,interval=interval) \n",
    "train_data = spring.generate_multistep_sir(size_list=mul_batch_size, steps=steps*interval, sigma=sigma,rou=rou,lam=1,miu=0.5,dt=dt,interval=interval)"
   ]
  },
  {
   "cell_type": "markdown",
   "id": "fda9a4bb-6be6-4df2-b0c2-f67892155808",
   "metadata": {},
   "source": [
    "# Five parallel experiments"
   ]
  },
  {
   "cell_type": "code",
   "execution_count": null,
   "id": "99316c23-740b-46cf-a281-03eb69ed2727",
   "metadata": {},
   "outputs": [
    {
     "name": "stdout",
     "output_type": "stream",
     "text": [
      "check point-------o_0-> 14:52:35.800423; lasting 0:00:04.192397 seconds\n",
      "Epoch: 0\n",
      "Train loss: 0.3949\n",
      "dEI: 0.5566\n",
      "term1: -0.3990\n",
      "term2: 1.5121\n",
      "Test multistep loss: 0.4480\n",
      "------------------------------------------------------------------------------------------------------------------------\n",
      "check point-------o_1-> 14:52:46.737209; lasting 0:00:10.936786 seconds\n",
      "check point-------o_0-> 14:52:53.411371; lasting 0:00:06.674162 seconds\n",
      "Epoch: 500\n",
      "Train loss: 0.0669\n",
      "dEI: 0.0000\n",
      "term1: -2.9074\n",
      "term2: 1.8512\n",
      "Test multistep loss: 0.0578\n",
      "------------------------------------------------------------------------------------------------------------------------\n",
      "check point-------o_1-> 14:52:58.850593; lasting 0:00:05.439222 seconds\n",
      "check point-------o_0-> 14:53:05.476559; lasting 0:00:06.625966 seconds\n",
      "Epoch: 1000\n",
      "Train loss: 0.0626\n",
      "dEI: 0.0000\n",
      "term1: -3.3434\n",
      "term2: 1.9988\n",
      "Test multistep loss: 0.0610\n",
      "------------------------------------------------------------------------------------------------------------------------\n",
      "check point-------o_1-> 14:53:09.846245; lasting 0:00:04.369686 seconds\n",
      "check point-------o_0-> 14:53:16.508190; lasting 0:00:06.661945 seconds\n",
      "Epoch: 1500\n",
      "Train loss: 0.0329\n",
      "dEI: 0.0000\n",
      "term1: -3.3643\n",
      "term2: 1.8919\n",
      "Test multistep loss: 0.0574\n",
      "------------------------------------------------------------------------------------------------------------------------\n",
      "check point-------o_1-> 14:53:20.613693; lasting 0:00:04.105503 seconds\n",
      "check point-------o_0-> 14:53:27.297854; lasting 0:00:06.684161 seconds\n",
      "Epoch: 2000\n",
      "Train loss: 0.0297\n",
      "dEI: 0.0000\n",
      "term1: -3.3974\n",
      "term2: 1.8604\n",
      "Test multistep loss: 0.0568\n",
      "------------------------------------------------------------------------------------------------------------------------\n",
      "check point-------o_1-> 14:53:31.541959; lasting 0:00:04.244105 seconds\n",
      "check point-------o_0-> 14:53:38.233848; lasting 0:00:06.691889 seconds\n",
      "Epoch: 2500\n",
      "Train loss: 0.0303\n",
      "dEI: 0.0000\n",
      "term1: -3.4484\n",
      "term2: 1.9375\n",
      "Test multistep loss: 0.0552\n",
      "------------------------------------------------------------------------------------------------------------------------\n",
      "check point-------o_1-> 14:53:42.420457; lasting 0:00:04.186609 seconds\n",
      "check point-------o_0-> 14:53:49.046557; lasting 0:00:06.626100 seconds\n",
      "Epoch: 3000\n",
      "Train loss: 0.0272\n",
      "dEI: 0.0000\n",
      "term1: -3.4410\n",
      "term2: 2.4050\n",
      "Test multistep loss: 0.0446\n",
      "------------------------------------------------------------------------------------------------------------------------\n",
      "check point-------o_1-> 14:53:52.975494; lasting 0:00:03.928937 seconds\n",
      "check point-------o_0-> 14:54:00.298352; lasting 0:00:07.322858 seconds\n",
      "Epoch: 3500\n",
      "Train loss: 0.0372\n",
      "dEI: 0.1624\n",
      "term1: -2.5574\n",
      "term2: 2.8823\n",
      "Test multistep loss: 0.0512\n",
      "------------------------------------------------------------------------------------------------------------------------\n",
      "check point-------o_1-> 14:54:07.074171; lasting 0:00:06.775819 seconds\n"
     ]
    }
   ],
   "source": [
    "sz = 4\n",
    "scale = 2\n",
    "mae2_w = 3\n",
    "T_total = 30001\n",
    "experiments = 5\n",
    "MAEs_mstep_e = np.zeros([experiments, T_total//500+1])\n",
    "eis_e = np.zeros([experiments, T_total//500+1])\n",
    "for e in range(experiments):\n",
    "    seed = 1 + e\n",
    "    np.random.seed(seed)\n",
    "    torch.manual_seed(seed)\n",
    "    torch.cuda.manual_seed_all(seed)\n",
    "    test_data = spring.generate_multistep_sir(size_list=[500,500], steps=10*interval, sigma=sigma, rou=rou,lam=1,miu=0.5,dt=dt,interval=interval) \n",
    "    train_data = spring.generate_multistep_sir(size_list=mul_batch_size, steps=steps*interval, sigma=sigma,rou=rou,lam=1,miu=0.5,dt=dt,interval=interval)\n",
    "    eis_vae, term1s_vae, term2s_vae, losses_vae, MAEs_mstep_vae, vae = train_vae(train_data=train_data, test_data=test_data, \n",
    "                                                            sz=sz, scale=scale, mae2_w=mae2_w, T2=T_total,  sigma=0.03, rou=-0.5, dt=dt, \n",
    "                                                                             L=1, hidden_units = 64, batch_size = 700)\n",
    "    MAEs_mstep_e[e,:] = MAEs_mstep_vae\n",
    "    eis_e[e,:] = eis_vae"
   ]
  },
  {
   "cell_type": "markdown",
   "id": "bc6b0c77-9378-4e0d-a030-ca67fbb8ce45",
   "metadata": {},
   "source": [
    "# Train"
   ]
  },
  {
   "cell_type": "code",
   "execution_count": null,
   "id": "cd03dba0-679d-404d-9358-81785ae1454f",
   "metadata": {
    "scrolled": true
   },
   "outputs": [],
   "source": [
    "sz = 4\n",
    "scale = 2\n",
    "mae2_w = 3\n",
    "T_total = 30001\n",
    "\n",
    "eis_vae, term1s_vae, term2s_vae, losses_vae, MAEs_mstep_vae, vae = train_vae(train_data=train_data, test_data=test_data, \n",
    "                                                            sz=sz, scale=scale, mae2_w=mae2_w, T2=T_total,  sigma=0.03, rou=-0.5, dt=dt, \n",
    "                                                                             L=1, hidden_units = 64, batch_size = 700)"
   ]
  }
 ],
 "metadata": {
  "kernelspec": {
   "display_name": "Python 3 (ipykernel)",
   "language": "python",
   "name": "python3"
  },
  "language_info": {
   "codemirror_mode": {
    "name": "ipython",
    "version": 3
   },
   "file_extension": ".py",
   "mimetype": "text/x-python",
   "name": "python",
   "nbconvert_exporter": "python",
   "pygments_lexer": "ipython3",
   "version": "3.10.14"
  }
 },
 "nbformat": 4,
 "nbformat_minor": 5
}
