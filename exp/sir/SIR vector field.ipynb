{
 "cells": [
  {
   "cell_type": "markdown",
   "metadata": {},
   "source": [
    "# Import backage"
   ]
  },
  {
   "cell_type": "code",
   "execution_count": 1,
   "metadata": {},
   "outputs": [],
   "source": [
    "import sys\n",
    "sys.path.append(\"../..\")\n",
    "import numpy as np\n",
    "import matplotlib.pyplot as plt\n",
    "from matplotlib import cm\n",
    "import random\n",
    "%matplotlib inline"
   ]
  },
  {
   "cell_type": "code",
   "execution_count": 2,
   "metadata": {},
   "outputs": [
    {
     "data": {
      "text/plain": [
       "device(type='cuda', index=0)"
      ]
     },
     "execution_count": 2,
     "metadata": {},
     "output_type": "execute_result"
    }
   ],
   "source": [
    "import torch\n",
    "from torch import nn\n",
    "from torch import distributions\n",
    "from torch.nn.parameter import Parameter\n",
    "from train import train\n",
    "from train import train_plus\n",
    "from models.models_new import Renorm_Dynamic\n",
    "from dynamic_models_sis_new import Simple_Spring_Model\n",
    "from vector_field import mesh\n",
    "from vector_field import transit\n",
    "from datetime import datetime\n",
    "t0 = datetime.now()\n",
    "\n",
    "\n",
    "use_cuda = torch.cuda.is_available()\n",
    "device = torch.device('cuda:0') if use_cuda else torch.device('cpu')\n",
    "device"
   ]
  },
  {
   "cell_type": "markdown",
   "metadata": {},
   "source": [
    "# Generate data"
   ]
  },
  {
   "cell_type": "code",
   "execution_count": 3,
   "metadata": {},
   "outputs": [],
   "source": [
    "mul_batch_size = [0,5000,3000,1000]#[0,10,4500,1500]\n",
    "sigma = 0.03\n",
    "rou = -0.5\n",
    "steps = 7\n",
    "dt = 0.01\n",
    "interval = 100\n",
    "steps2=10\n",
    "seed = 2050\n",
    "np.random.seed(seed)\n",
    "torch.manual_seed(seed)\n",
    "torch.cuda.manual_seed_all(seed)\n",
    "spring = Simple_Spring_Model(device=device)\n",
    "test_data = spring.generate_multistep_sir(size_list=[500,500], steps=10*interval, sigma=sigma, rou=rou,lam=1,miu=0.5,dt=dt,interval=interval) \n",
    "train_data = spring.generate_multistep_sir(size_list=mul_batch_size, steps=steps*interval, sigma=sigma,rou=rou,lam=1,miu=0.5,dt=dt,interval=interval)"
   ]
  },
  {
   "cell_type": "markdown",
   "metadata": {},
   "source": [
    "# Train"
   ]
  },
  {
   "cell_type": "code",
   "execution_count": null,
   "metadata": {},
   "outputs": [
    {
     "name": "stdout",
     "output_type": "stream",
     "text": [
      "check point-------o_0-> 12:08:11.490594; lasting 0:00:05.559386 seconds\n",
      "Epoch: 0\n",
      "Train loss: 0.2162\n",
      "dEI: 0.5717\n",
      "term1: -0.2794\n",
      "term2: 1.4228\n",
      "Test multistep loss: 0.4427\n",
      "------------------------------------------------------------------------------------------------------------------------\n",
      "check point-------o_1-> 12:08:17.242163; lasting 0:00:05.751569 seconds\n"
     ]
    }
   ],
   "source": [
    "sz = 4\n",
    "scale = 2\n",
    "L = 1\n",
    "mae2_w = 3\n",
    "T_total = 30001\n",
    "eis_nisp, term1s_nisp, term2s_nisp, losses_nisp, MAEs_mstep_nisp, net_nisp = train_plus(train_data=train_data, test_data=test_data, \n",
    "                                                                         sigma=sigma, rou=rou, sz=sz, scale=scale, L=L, \n",
    "                                                                         mae2_w=mae2_w, dt=dt, T2=T_total,framework='nis',steps2=steps2,interval=interval)\n",
    "torch.save(net.state_dict(), 'mdl_data/nis steps10 exp-0.2t interval100.mdl')"
   ]
  },
  {
   "cell_type": "code",
   "execution_count": null,
   "metadata": {},
   "outputs": [],
   "source": [
    "eis_nisp, term1s_nisp, term2s_nisp, losses_nisp, MAEs_mstep_nisp, net_nisp = train_plus(train_data=train_data, test_data=test_data, \n",
    "                                                                         sigma=sigma, rou=rou, sz=sz, scale=scale, L=L, \n",
    "                                                                         mae2_w=mae2_w, dt=dt, T2=T_total,framework='nis+',steps2=steps2,interval=interval)\n",
    "torch.save(net.state_dict(), 'mdl_data/nisp steps10 exp-0.2t interval100.mdl')"
   ]
  },
  {
   "cell_type": "code",
   "execution_count": null,
   "metadata": {},
   "outputs": [],
   "source": [
    "\n",
    "def SIR(s,i,lam=1,miu=0.5):\n",
    "    ds=-lam * s * i\n",
    "    di=lam * s * i - miu * i\n",
    "    return ds, di\n",
    "sz = 4\n",
    "scale = 2\n",
    "L = 1\n",
    "sigma=0.03\n",
    "rou=-0.5\n",
    "hidden_units = 64\n",
    "net = Renorm_Dynamic(sym_size = sz, latent_size = scale, effect_size = sz, \n",
    "                         hidden_units = hidden_units, normalized_state=True, device = device)\n",
    "net2 = Renorm_Dynamic(sym_size = sz, latent_size = scale, effect_size = sz, \n",
    "                         hidden_units = hidden_units, normalized_state=True, device = device)\n",
    "net.to(device=device)\n",
    "net2.to(device=device)\n",
    "net.load_state_dict(torch.load('nis steps10 exp-0.2t interval100.mdl'))\n",
    "net2.load_state_dict(torch.load('net steps10 exp-0.2t interval100.mdl'))\n",
    "spring = Simple_Spring_Model(device=device)\n",
    "\n",
    "colorlabel = ['#F4F1DE','#DF7A5E','#3C405B','#82B29A','#F2CC8E']\n",
    "colors=[colorlabel[1]]*len(S)+[colorlabel[3]]*len(S)\n",
    "#0.007,0.015,0.07\n",
    "\n",
    "\n",
    "dd1_nis,dd2_nis=vector_func(net,jac_bool=False)\n",
    "#dd1_nis_jac,dd2_nis_jac=vector_func(net,jac_bool=True)\n",
    "#dd1_net,dd2_net=vector_func(net2,jac_bool=False)\n",
    "#dd1_net_jac,dd2_net_jac=vector_func(net2,jac_bool=True)"
   ]
  },
  {
   "cell_type": "code",
   "execution_count": null,
   "metadata": {},
   "outputs": [],
   "source": [
    "def SIR(s,i,lam=1,miu=0.5):\n",
    "    ds=-lam * s * i\n",
    "    di=lam * s * i - miu * i\n",
    "    return ds, di\n",
    "S, I = mesh(0.07)\n",
    "dSdt,dIdt = SIR(S,I)\n",
    "m=0.1\n",
    "dSdt,dIdt=m*dSdt,m*dIdt\n",
    "fig,ax = plt.subplots(figsize=(5,4),dpi=150)\n",
    "colors=[colorlabel[2]]*len(S)+[colorlabel[3]]*len(S)+[colorlabel[1]]*len(S)\n",
    "S=list(S)+list(S)+list(S)\n",
    "I=list(I)+list(I)+list(I)\n",
    "dd1_final=list(dd1_net)+list(dd1_net_jac)+list(dSdt)\n",
    "dd2_final=list(dd2_net)+list(dd2_net_jac)+list(dIdt)\n",
    "# 绘制拼接后的向量场\n",
    "quiver = ax.quiver(S, I, dd1_final, dd2_final, width=0.005,color=colors)\n",
    "#quiver = ax.quiver(S, I, dd1_final_nis, dd2_final_nis, width=0.005,color=colors)\n",
    "red_patch = matplotlib.patches.Patch(color=colorlabel[1], label='real')\n",
    "green_patch = matplotlib.patches.Patch(color=colorlabel[3], label='NIS+')\n",
    "ran_patch = matplotlib.patches.Patch(color=colorlabel[2], label='theoretic')\n",
    "plt.legend(handles=[red_patch, green_patch,ran_patch],loc='best', fontsize=12)\n",
    "\n",
    "# Set graphic title and axis labels.\n",
    "plt.xlabel('$S(h_1)$',fontsize=15)\n",
    "plt.ylabel('$I(h_2)$',fontsize=15)\n",
    "\n",
    "ax.tick_params(labelsize=15)\n",
    "plt.show()"
   ]
  },
  {
   "cell_type": "markdown",
   "metadata": {},
   "source": [
    "# Results"
   ]
  },
  {
   "cell_type": "code",
   "execution_count": null,
   "metadata": {},
   "outputs": [],
   "source": [
    "plt.figure(dpi=300)\n",
    "timeseries = np.arange(len(eis_nis))*500\n",
    "plt.plot(timeseries, eis_nis, label='NIS')\n",
    "plt.plot(timeseries, eis_nisp, label='NIS+')\n",
    "plt.title(r'$\\mathcal{J}$')\n",
    "plt.legend()\n",
    "plt.show()"
   ]
  },
  {
   "cell_type": "code",
   "execution_count": null,
   "metadata": {},
   "outputs": [],
   "source": [
    "plt.figure(dpi=300)\n",
    "timeseries = np.arange(len(eis_nis))*500\n",
    "plt.plot(timeseries, losses_nis, label='NIS')\n",
    "plt.plot(timeseries, losses_nisp, label='NIS+')\n",
    "plt.title(r'loss')\n",
    "plt.legend()\n",
    "#plt.yscale('log')\n",
    "plt.show()"
   ]
  },
  {
   "cell_type": "code",
   "execution_count": null,
   "metadata": {},
   "outputs": [],
   "source": [
    "plt.figure(dpi=300)\n",
    "timeseries = np.arange(len(eis_nis))*500\n",
    "plt.plot(timeseries, MAEs_mstep_nis, label='NIS')\n",
    "plt.plot(timeseries, MAEs_mstep_nisp, label='NIS+')\n",
    "plt.title(r'multistep mae')\n",
    "plt.legend()\n",
    "plt.show()"
   ]
  }
 ],
 "metadata": {
  "kernelspec": {
   "display_name": "Python 3 (ipykernel)",
   "language": "python",
   "name": "python3"
  },
  "language_info": {
   "codemirror_mode": {
    "name": "ipython",
    "version": 3
   },
   "file_extension": ".py",
   "mimetype": "text/x-python",
   "name": "python",
   "nbconvert_exporter": "python",
   "pygments_lexer": "ipython3",
   "version": "3.10.14"
  }
 },
 "nbformat": 4,
 "nbformat_minor": 4
}
